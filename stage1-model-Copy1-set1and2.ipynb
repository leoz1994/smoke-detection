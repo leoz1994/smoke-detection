{
 "cells": [
  {
   "cell_type": "markdown",
   "metadata": {},
   "source": [
    "## Stage1:生成模型\n",
    "\n"
   ]
  },
  {
   "cell_type": "markdown",
   "metadata": {},
   "source": [
    "#### 导入包"
   ]
  },
  {
   "cell_type": "code",
   "execution_count": 1,
   "metadata": {},
   "outputs": [],
   "source": [
    "from skimage.transform import rotate\n",
    "from skimage.feature import local_binary_pattern\n",
    "from skimage import data, io\n",
    "from skimage.color import label2rgb\n",
    "import skimage\n",
    "import numpy as np\n",
    "import matplotlib.pyplot as plt\n",
    "from PIL import Image\n",
    "import cv2\n",
    "%matplotlib inline\n",
    "import glob as gb"
   ]
  },
  {
   "cell_type": "code",
   "execution_count": 2,
   "metadata": {},
   "outputs": [],
   "source": [
    "def LBPhist(image):\n",
    "    # settings for LBP\n",
    "    radius = 3\n",
    "    n_points = 8 * radius\n",
    "    # 转换为灰度图显示\n",
    "    image = cv2.cvtColor(image, cv2.COLOR_RGB2GRAY)\n",
    "    # 处理\n",
    "    lbp = local_binary_pattern(image, n_points, radius)\n",
    "    bins = np.arange(257)\n",
    "    hist,bins = np.histogram(lbp,bins)\n",
    "    return hist"
   ]
  },
  {
   "cell_type": "markdown",
   "metadata": {},
   "source": [
    "### 测试LBP"
   ]
  },
  {
   "cell_type": "markdown",
   "metadata": {},
   "source": [
    "#### train_smoke"
   ]
  },
  {
   "cell_type": "code",
   "execution_count": 3,
   "metadata": {},
   "outputs": [],
   "source": [
    "img_path_train_smoke = gb.glob(\"F:\\\\smokeproject\\\\sets\\\\set1\\\\smoke\\\\*.jpg\") \n",
    "num_length_train_smoke = len(img_path_train_smoke)\n",
    "hist_empty = np.zeros([1,256])\n",
    "y_train_smoke = np.ones([num_length_train_smoke,1])\n",
    "\n",
    "for path in img_path_train_smoke:\n",
    "    img  = cv2.imread(path) \n",
    "    hist = LBPhist(img)\n",
    "    hist_empty = np.vstack((hist_empty, hist))\n",
    "    \n",
    "train_smoke = hist_empty[1:,:]"
   ]
  },
  {
   "cell_type": "code",
   "execution_count": 4,
   "metadata": {},
   "outputs": [
    {
     "data": {
      "text/plain": [
       "array([[119.,   5.,   1., ...,   0.,   4.,  12.],\n",
       "       [119.,   8.,   0., ...,   0.,   6.,  16.],\n",
       "       [ 98.,   4.,   0., ...,   0.,   0.,   6.],\n",
       "       ...,\n",
       "       [ 81.,   7.,   1., ...,   0.,   4.,   3.],\n",
       "       [ 79.,   2.,   1., ...,   0.,   5.,   8.],\n",
       "       [104.,   1.,   0., ...,   0.,   4.,   6.]])"
      ]
     },
     "execution_count": 4,
     "metadata": {},
     "output_type": "execute_result"
    }
   ],
   "source": [
    "##test\n",
    "hist_empty[1:,:]"
   ]
  },
  {
   "cell_type": "markdown",
   "metadata": {},
   "source": [
    "#### train_no_smoke"
   ]
  },
  {
   "cell_type": "code",
   "execution_count": 5,
   "metadata": {},
   "outputs": [
    {
     "data": {
      "text/plain": [
       "array([[138.,   9.,   1., ...,   0.,   4.,   7.],\n",
       "       [175.,  17.,   3., ...,   0.,   2.,   4.],\n",
       "       [134.,   2.,   0., ...,   0.,   1.,   0.],\n",
       "       ...,\n",
       "       [188.,  11.,   5., ...,   0.,   0.,   0.],\n",
       "       [155.,   6.,   0., ...,   0.,   0.,   2.],\n",
       "       [175.,  10.,   4., ...,   0.,   1.,   0.]])"
      ]
     },
     "execution_count": 5,
     "metadata": {},
     "output_type": "execute_result"
    }
   ],
   "source": [
    "img_path_train_no_smoke = gb.glob(\"F:\\\\smokeproject\\\\sets\\\\set1\\\\non\\\\*.jpg\") \n",
    "num_length_train_no_smoke = len(img_path_train_no_smoke)\n",
    "hist_empty = np.zeros([1,256])\n",
    "y_train_no_smoke = np.zeros([num_length_train_no_smoke,1])\n",
    "\n",
    "for path in img_path_train_no_smoke:\n",
    "    img  = cv2.imread(path) \n",
    "    hist = LBPhist(img)\n",
    "    hist_empty = np.vstack((hist_empty, hist))\n",
    "    \n",
    "train_no_smoke = hist_empty[1:,:]\n",
    "\n",
    "train_no_smoke"
   ]
  },
  {
   "cell_type": "markdown",
   "metadata": {},
   "source": [
    "#### test_smoke"
   ]
  },
  {
   "cell_type": "code",
   "execution_count": 6,
   "metadata": {},
   "outputs": [],
   "source": [
    "img_path_test_smoke = gb.glob(\"F:\\\\smokeproject\\\\sets\\\\set2\\\\smoke\\\\*.jpg\") \n",
    "num_length_test_smoke = len(img_path_test_smoke)\n",
    "hist_empty = np.zeros([1,256])\n",
    "y_test_smoke = np.ones([num_length_test_smoke,1])\n",
    "\n",
    "for path in img_path_test_smoke:\n",
    "    img  = cv2.imread(path) \n",
    "    hist = LBPhist(img)\n",
    "    hist_empty = np.vstack((hist_empty, hist))\n",
    "    \n",
    "test_smoke = hist_empty[1:,:]"
   ]
  },
  {
   "cell_type": "markdown",
   "metadata": {},
   "source": [
    "#### test_no_smoke"
   ]
  },
  {
   "cell_type": "code",
   "execution_count": 7,
   "metadata": {},
   "outputs": [
    {
     "data": {
      "text/plain": [
       "array([[217.,  10.,   2., ...,   0.,   0.,   2.],\n",
       "       [113.,  12.,   5., ...,   0.,   3.,   5.],\n",
       "       [153.,   8.,   2., ...,   0.,   1.,   2.],\n",
       "       ...,\n",
       "       [101.,  13.,   2., ...,   0.,   3.,   5.],\n",
       "       [ 92.,  18.,   2., ...,   0.,   1.,  11.],\n",
       "       [113.,  16.,   3., ...,   0.,   2.,   3.]])"
      ]
     },
     "execution_count": 7,
     "metadata": {},
     "output_type": "execute_result"
    }
   ],
   "source": [
    "img_path_test_no_smoke = gb.glob(\"F:\\\\smokeproject\\\\sets\\\\set2\\\\non\\\\*.jpg\") \n",
    "num_length_test_no_smoke = len(img_path_test_no_smoke)\n",
    "hist_empty = np.zeros([1,256])\n",
    "y_test_no_smoke = np.zeros([num_length_test_no_smoke,1])\n",
    "\n",
    "for path in img_path_test_no_smoke:\n",
    "    img  = cv2.imread(path) \n",
    "    hist = LBPhist(img)\n",
    "    hist_empty = np.vstack((hist_empty, hist))\n",
    "    \n",
    "test_no_smoke = hist_empty[1:,:]\n",
    "\n",
    "test_no_smoke"
   ]
  },
  {
   "cell_type": "markdown",
   "metadata": {},
   "source": [
    "#### 连接矩阵"
   ]
  },
  {
   "cell_type": "code",
   "execution_count": 8,
   "metadata": {},
   "outputs": [],
   "source": [
    "#np.concatenate((a,b),axis=0)"
   ]
  },
  {
   "cell_type": "code",
   "execution_count": 9,
   "metadata": {},
   "outputs": [],
   "source": [
    "#连接矩阵并转换格式\n",
    "y_train = np.vstack((y_train_smoke, y_train_no_smoke))\n",
    "X_train = np.vstack((train_smoke,train_no_smoke))\n",
    "\n",
    "y_train = y_train.astype(np.int64)"
   ]
  },
  {
   "cell_type": "code",
   "execution_count": 10,
   "metadata": {},
   "outputs": [],
   "source": [
    "y_test = np.vstack((y_test_smoke, y_test_no_smoke))\n",
    "X_test = np.vstack((test_smoke,test_no_smoke))\n",
    "\n",
    "y_test = y_test.astype(np.int64)"
   ]
  },
  {
   "cell_type": "code",
   "execution_count": 11,
   "metadata": {},
   "outputs": [
    {
     "name": "stdout",
     "output_type": "stream",
     "text": [
      "(1383, 256)\n",
      "(1383, 1)\n",
      "(1505, 256)\n",
      "(1505, 1)\n"
     ]
    }
   ],
   "source": [
    "print(X_train.shape)\n",
    "print(y_train.shape)\n",
    "print(X_test.shape)\n",
    "print(y_test.shape)"
   ]
  },
  {
   "cell_type": "markdown",
   "metadata": {},
   "source": [
    "#### 打乱排序"
   ]
  },
  {
   "cell_type": "code",
   "execution_count": 10,
   "metadata": {},
   "outputs": [],
   "source": [
    "#all_xys = np.hstack((X_train,y_train))"
   ]
  },
  {
   "cell_type": "code",
   "execution_count": 19,
   "metadata": {},
   "outputs": [],
   "source": [
    "indices = np.random.permutation(X_train.shape[0]) # shape[0]表示第0轴的长度，通常是训练数据的数量\n",
    "rand_data_x = X_train[indices]\n",
    "rand_data_y = y_train[indices] # data_y就是标记（label）"
   ]
  },
  {
   "cell_type": "code",
   "execution_count": 20,
   "metadata": {},
   "outputs": [],
   "source": [
    "from sklearn.model_selection import train_test_split\n",
    "x_train, x_test, Y_train, Y_test = train_test_split(rand_data_x, rand_data_y, test_size = 0.25, random_state = 0)\n"
   ]
  },
  {
   "cell_type": "markdown",
   "metadata": {},
   "source": [
    "#### SVM-RBF 测试"
   ]
  },
  {
   "cell_type": "code",
   "execution_count": 12,
   "metadata": {},
   "outputs": [
    {
     "name": "stderr",
     "output_type": "stream",
     "text": [
      "E:\\Anaconda\\envs\\ml2\\lib\\site-packages\\sklearn\\utils\\validation.py:724: DataConversionWarning: A column-vector y was passed when a 1d array was expected. Please change the shape of y to (n_samples, ), for example using ravel().\n",
      "  y = column_or_1d(y, warn=True)\n",
      "E:\\Anaconda\\envs\\ml2\\lib\\site-packages\\sklearn\\svm\\base.py:193: FutureWarning: The default value of gamma will change from 'auto' to 'scale' in version 0.22 to account better for unscaled features. Set gamma explicitly to 'auto' or 'scale' to avoid this warning.\n",
      "  \"avoid this warning.\", FutureWarning)\n"
     ]
    },
    {
     "data": {
      "text/plain": [
       "SVC(C=1.0, cache_size=200, class_weight=None, coef0=0.0,\n",
       "    decision_function_shape='ovr', degree=3, gamma='auto_deprecated',\n",
       "    kernel='rbf', max_iter=-1, probability=False, random_state=0,\n",
       "    shrinking=True, tol=0.001, verbose=False)"
      ]
     },
     "execution_count": 12,
     "metadata": {},
     "output_type": "execute_result"
    }
   ],
   "source": [
    "from sklearn.svm import SVC\n",
    "classifier = SVC(kernel = 'rbf', random_state = 0)\n",
    "classifier.fit(X_train, y_train)"
   ]
  },
  {
   "cell_type": "code",
   "execution_count": 13,
   "metadata": {},
   "outputs": [],
   "source": [
    "# Predicting the Test set results\n",
    "y_pred = classifier.predict(X_test)\n",
    "\n",
    "# Making the Confusion Matrix 混淆矩阵\n",
    "from sklearn.metrics import confusion_matrix\n",
    "cm = confusion_matrix(y_test, y_pred)"
   ]
  },
  {
   "cell_type": "code",
   "execution_count": 14,
   "metadata": {},
   "outputs": [
    {
     "data": {
      "text/plain": [
       "array([[766,  51],\n",
       "       [ 67, 621]], dtype=int64)"
      ]
     },
     "execution_count": 14,
     "metadata": {},
     "output_type": "execute_result"
    }
   ],
   "source": [
    "cm"
   ]
  },
  {
   "cell_type": "code",
   "execution_count": null,
   "metadata": {},
   "outputs": [],
   "source": []
  }
 ],
 "metadata": {
  "kernelspec": {
   "display_name": "Python [conda env:ml2] *",
   "language": "python",
   "name": "conda-env-ml2-py"
  },
  "language_info": {
   "codemirror_mode": {
    "name": "ipython",
    "version": 3
   },
   "file_extension": ".py",
   "mimetype": "text/x-python",
   "name": "python",
   "nbconvert_exporter": "python",
   "pygments_lexer": "ipython3",
   "version": "3.7.3"
  }
 },
 "nbformat": 4,
 "nbformat_minor": 2
}
